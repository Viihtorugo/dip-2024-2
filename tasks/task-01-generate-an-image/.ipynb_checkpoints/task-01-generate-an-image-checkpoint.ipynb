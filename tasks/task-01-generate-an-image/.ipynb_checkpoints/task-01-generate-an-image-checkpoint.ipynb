{
 "cells": [
  {
   "cell_type": "code",
   "execution_count": 1,
   "id": "6349c565",
   "metadata": {},
   "outputs": [
    {
     "ename": "ModuleNotFoundError",
     "evalue": "No module named 'cv2'",
     "output_type": "error",
     "traceback": [
      "\u001b[0;31m---------------------------------------------------------------------------\u001b[0m",
      "\u001b[0;31mModuleNotFoundError\u001b[0m                       Traceback (most recent call last)",
      "Cell \u001b[0;32mIn[1], line 3\u001b[0m\n\u001b[1;32m      1\u001b[0m \u001b[38;5;28;01mimport\u001b[39;00m \u001b[38;5;21;01margparse\u001b[39;00m\n\u001b[1;32m      2\u001b[0m \u001b[38;5;28;01mimport\u001b[39;00m \u001b[38;5;21;01mnumpy\u001b[39;00m \u001b[38;5;28;01mas\u001b[39;00m \u001b[38;5;21;01mnp\u001b[39;00m\n\u001b[0;32m----> 3\u001b[0m \u001b[38;5;28;01mimport\u001b[39;00m \u001b[38;5;21;01mcv2\u001b[39;00m\n",
      "\u001b[0;31mModuleNotFoundError\u001b[0m: No module named 'cv2'"
     ]
    }
   ],
   "source": [
    "import argparse\n",
    "import numpy as np\n",
    "import cv2"
   ]
  },
  {
   "cell_type": "code",
   "execution_count": null,
   "id": "f8ff8e6f",
   "metadata": {},
   "outputs": [],
   "source": [
    "def generate_image(seed, width, height, mean, std):\n",
    "    \"\"\"\n",
    "    Generates a grayscale image with pixel values sampled from a normal distribution.\n",
    "\n",
    "    Args:\n",
    "        seed (int): Random seed for reproducibility (student's registration number).\n",
    "        width (int): Width of the generated image.\n",
    "        height (int): Height of the generated image.\n",
    "        mean (float): Mean of the normal distribution.\n",
    "        std (float): Standard deviation of the normal distribution.\n",
    "\n",
    "    Returns:\n",
    "        image (numpy.ndarray): The generated image.\n",
    "    \"\"\"\n",
    "    ### START CODE HERE ###\n",
    "    ### TODO\n",
    "    ### END CODE HERE ###\n",
    "\n",
    "    return image"
   ]
  },
  {
   "cell_type": "code",
   "execution_count": null,
   "id": "a2647f41",
   "metadata": {},
   "outputs": [],
   "source": [
    "def main():\n",
    "    # Argument parser\n",
    "    parser = argparse.ArgumentParser(description=\"Generate an image with pixel values sampled from a normal distribution.\")\n",
    "\n",
    "    parser.add_argument('--registration_number', type=int, required=True, help=\"Student's registration number (used as seed)\")\n",
    "    parser.add_argument('--width', type=int, required=True, help=\"Width of the image\")\n",
    "    parser.add_argument('--height', type=int, required=True, help=\"Height of the image\")\n",
    "    parser.add_argument('--mean', type=float, required=True, help=\"Mean of the normal distribution\")\n",
    "    parser.add_argument('--std', type=float, required=True, help=\"Standard deviation of the normal distribution\")\n",
    "    parser.add_argument('--output', type=str, required=True, help=\"Path to save the generated image\")\n",
    "\n",
    "    args = parser.parse_args()\n",
    "\n",
    "    # Generate the image\n",
    "    image = generate_image(args.registration_number, args.width, args.height, args.mean, args.std)\n",
    "\n",
    "    # Save the generated image\n",
    "    cv2.imwrite(args.output, image)\n",
    "\n",
    "    print(f\"Image successfully generated and saved to {args.output}\")"
   ]
  },
  {
   "cell_type": "code",
   "execution_count": null,
   "id": "faff8e33",
   "metadata": {},
   "outputs": [],
   "source": [
    "if __name__ == \"__main__\":\n",
    "    main()"
   ]
  }
 ],
 "metadata": {
  "kernelspec": {
   "display_name": "Python 3 (ipykernel)",
   "language": "python",
   "name": "python3"
  },
  "language_info": {
   "codemirror_mode": {
    "name": "ipython",
    "version": 3
   },
   "file_extension": ".py",
   "mimetype": "text/x-python",
   "name": "python",
   "nbconvert_exporter": "python",
   "pygments_lexer": "ipython3",
   "version": "3.11.5"
  }
 },
 "nbformat": 4,
 "nbformat_minor": 5
}
