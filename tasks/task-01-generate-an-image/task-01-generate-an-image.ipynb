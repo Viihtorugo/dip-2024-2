{
 "cells": [
  {
   "cell_type": "code",
   "execution_count": 2,
   "id": "5ba0b62a",
   "metadata": {},
   "outputs": [
    {
     "name": "stdout",
     "output_type": "stream",
     "text": [
      "Requirement already satisfied: opencv-python in /home/mestrevh/anaconda3/lib/python3.11/site-packages (4.11.0.86)\n",
      "Requirement already satisfied: numpy>=1.21.2 in /home/mestrevh/anaconda3/lib/python3.11/site-packages (from opencv-python) (1.24.3)\n",
      "Collecting opencv-python-headless\n",
      "  Obtaining dependency information for opencv-python-headless from https://files.pythonhosted.org/packages/dd/5c/c139a7876099916879609372bfa513b7f1257f7f1a908b0bdc1c2328241b/opencv_python_headless-4.11.0.86-cp37-abi3-manylinux_2_17_x86_64.manylinux2014_x86_64.whl.metadata\n",
      "  Downloading opencv_python_headless-4.11.0.86-cp37-abi3-manylinux_2_17_x86_64.manylinux2014_x86_64.whl.metadata (20 kB)\n",
      "Requirement already satisfied: numpy>=1.21.2 in /home/mestrevh/anaconda3/lib/python3.11/site-packages (from opencv-python-headless) (1.24.3)\n",
      "Downloading opencv_python_headless-4.11.0.86-cp37-abi3-manylinux_2_17_x86_64.manylinux2014_x86_64.whl (50.0 MB)\n",
      "\u001b[2K   \u001b[38;2;114;156;31m━━━━━━━━━━━━━━━━━━━━━━━━━━━━━━━━━━━━━━━━\u001b[0m \u001b[32m50.0/50.0 MB\u001b[0m \u001b[31m3.4 MB/s\u001b[0m eta \u001b[36m0:00:00\u001b[0mm eta \u001b[36m0:00:01\u001b[0m[36m0:00:01\u001b[0m\n",
      "\u001b[?25hInstalling collected packages: opencv-python-headless\n",
      "Successfully installed opencv-python-headless-4.11.0.86\n"
     ]
    }
   ],
   "source": [
    "!pip install opencv-python\n",
    "!pip install opencv-python-headless"
   ]
  },
  {
   "cell_type": "code",
   "execution_count": 2,
   "id": "6349c565",
   "metadata": {},
   "outputs": [],
   "source": [
    "import argparse\n",
    "import numpy as np\n",
    "import cv2\n",
    "import matplotlib.pyplot as plt"
   ]
  },
  {
   "cell_type": "code",
   "execution_count": 11,
   "id": "f8ff8e6f",
   "metadata": {},
   "outputs": [],
   "source": [
    "def generate_image(seed, width, height, mean, std):\n",
    "    \"\"\"\n",
    "    Generates a grayscale image with pixel values sampled from a normal distribution.\n",
    "\n",
    "    Args:\n",
    "        seed (int): Random seed for reproducibility (student's registration number).\n",
    "        width (int): Width of the generated image.\n",
    "        height (int): Height of the generated image.\n",
    "        mean (float): Mean of the normal distribution.\n",
    "        std (float): Standard deviation of the normal distribution.\n",
    "\n",
    "    Returns:\n",
    "        image (numpy.ndarray): The generated image.\n",
    "    \"\"\"\n",
    "    ### START CODE HERE ###\n",
    "    ### TODO\n",
    "    \n",
    "    np.random.seed(seed)\n",
    "    image = np.random.normal(mean, std, (height, width))\n",
    "    #image = np.clip(image, 0, 255)\n",
    "    image = image.astype(np.uint8)\n",
    "    print(type(image))\n",
    "    \n",
    "    ### END CODE HERE ###\n",
    "\n",
    "    return image"
   ]
  },
  {
   "cell_type": "code",
   "execution_count": 12,
   "id": "a7fbdb4e",
   "metadata": {},
   "outputs": [],
   "source": [
    "def plot_hist(data):\n",
    "    \n",
    "    plt.hist(data)\n",
    "\n",
    "    # Adicionar rótulos\n",
    "    plt.xlabel(\"Valor\")\n",
    "    plt.ylabel(\"Frequência\")\n",
    "    plt.title(\"Histograma de Valores\")\n",
    "\n",
    "    # Mostrar gráfico\n",
    "    plt.show()"
   ]
  },
  {
   "cell_type": "code",
   "execution_count": 13,
   "id": "a2647f41",
   "metadata": {},
   "outputs": [],
   "source": [
    "def main():\n",
    "    \n",
    "    registration_number = 19111334\n",
    "    width = int(256) \n",
    "    height = int(256)\n",
    "    mean = float(128) \n",
    "    std = float(30) \n",
    "    output = 'image.png'\n",
    "    \n",
    "    # Generate the image\n",
    "    image = generate_image(registration_number, width, height, mean, std)\n",
    "\n",
    "    # Save the generated image\n",
    "    cv2.imwrite(output, image)\n",
    "    plot_hist(image)\n",
    "\n",
    "    print(f\"Image successfully generated and saved to {output}\")"
   ]
  },
  {
   "cell_type": "code",
   "execution_count": 14,
   "id": "faff8e33",
   "metadata": {},
   "outputs": [
    {
     "name": "stdout",
     "output_type": "stream",
     "text": [
      "<class 'numpy.ndarray'>\n"
     ]
    },
    {
     "data": {
      "image/png": "[encoded data removed]",
      "text/plain": [
       "<Figure size 640x480 with 1 Axes>"
      ]
     },
     "metadata": {},
     "output_type": "display_data"
    },
    {
     "name": "stdout",
     "output_type": "stream",
     "text": [
      "Image successfully generated and saved to image.png\n"
     ]
    }
   ],
   "source": [
    "if __name__ == \"__main__\":\n",
    "    main()"
   ]
  },
  {
   "cell_type": "code",
   "execution_count": null,
   "id": "af968cbd",
   "metadata": {},
   "outputs": [],
   "source": []
  }
 ],
 "metadata": {
  "kernelspec": {
   "display_name": "Python 3 (ipykernel)",
   "language": "python",
   "name": "python3"
  },
  "language_info": {
   "codemirror_mode": {
    "name": "ipython",
    "version": 3
   },
   "file_extension": ".py",
   "mimetype": "text/x-python",
   "name": "python",
   "nbconvert_exporter": "python",
   "pygments_lexer": "ipython3",
   "version": "3.11.5"
  }
 },
 "nbformat": 4,
 "nbformat_minor": 5
}
