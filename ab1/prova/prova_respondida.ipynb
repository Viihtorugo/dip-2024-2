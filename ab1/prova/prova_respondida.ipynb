{
 "cells": [
  {
   "cell_type": "markdown",
   "id": "c5312ff0-12d0-4aa1-8d05-a0a5bf20c894",
   "metadata": {},
   "source": [
    "# Questão 01"
   ]
  },
  {
   "cell_type": "code",
   "execution_count": 12,
   "id": "fe07a966-0a27-4c59-a49e-615c58a26892",
   "metadata": {},
   "outputs": [
    {
     "name": "stdout",
     "output_type": "stream",
     "text": [
      "erroe\n",
      "Original image: \n",
      "[[0.32285394 0.95322289 0.31806831]\n",
      " [0.12936134 0.45275244 0.60094833]\n",
      " [0.71811803 0.49059312 0.38843348]]\n",
      "\n",
      "Expected result: \n",
      "[[0.32285394 1.27607683 1.59414514]\n",
      " [0.45221528 1.85819061 2.77720725]\n",
      " [1.17033331 3.06690176 4.37435188]]\n",
      "\n",
      "Your result: \n",
      "[[0.32285394 1.27607683 1.59414514]\n",
      " [0.45221528 1.85819061 2.77720725]\n",
      " [1.17033331 3.06690176 4.37435188]]\n",
      "\n"
     ]
    }
   ],
   "source": [
    "# student_integral_image_numpy.py\n",
    "\n",
    "import numpy as np\n",
    "\n",
    "def sum_s_image(n, m, image):\n",
    "    total = 0\n",
    "\n",
    "    for i in range (0, n + 1):\n",
    "        for j in range(0, m + 1):\n",
    "            total += image[i,j]\n",
    "\n",
    "    #print(total)\n",
    "\n",
    "    return np.float64(total)\n",
    "\n",
    "def compute_integral_image(image: np.ndarray) -> np.ndarray:\n",
    "    \"\"\"\n",
    "    Computes the integral image using NumPy.\n",
    "\n",
    "    Parameters:\n",
    "        image (np.ndarray): 2D grayscale image.\n",
    "\n",
    "    Returns:\n",
    "        np.ndarray: Integral image.\n",
    "    \"\"\"\n",
    "    # TODO: Implement your solution here\n",
    "\n",
    "    img_res = np.zeros((3,3), dtype=np.float64)\n",
    "\n",
    "    for y in range(len(image)):\n",
    "        for x in range (len(image[0])):\n",
    "            img_res[y, x] = sum_s_image(y, x, image)\n",
    "\n",
    "    return img_res\n",
    "\n",
    "# Define test image\n",
    "image = np.array([\n",
    "    [0.32285394, 0.95322289, 0.31806831],\n",
    "    [0.12936134, 0.45275244, 0.60094833],\n",
    "    [0.71811803, 0.49059312, 0.38843348],\n",
    "], dtype=np.float64)\n",
    "\n",
    "expected_result = np.array([\n",
    "    [0.32285394, 1.27607683, 1.59414514],\n",
    "    [0.45221528, 1.85819061, 2.77720725],\n",
    "    [1.17033331, 3.06690176, 4.37435188],\n",
    "], dtype=np.float64)\n",
    "\n",
    "integral_image = compute_integral_image(image)\n",
    "\n",
    "if (expected_result == integral_image).all():\n",
    "    print(f'Success!')\n",
    "else:\n",
    "    print(\"erroe\")\n",
    "\n",
    "print(f'Original image: \\n{image}\\n')\n",
    "print(f'Expected result: \\n{expected_result}\\n')\n",
    "print(f'Your result: \\n{integral_image}\\n')"
   ]
  },
  {
   "cell_type": "markdown",
   "id": "25ea90a5-b0b7-4c12-bb1b-68a0810ea19e",
   "metadata": {},
   "source": [
    "# Questão 02"
   ]
  },
  {
   "cell_type": "code",
   "execution_count": 14,
   "id": "4a886752-60df-42a6-aa1d-56492fd509b2",
   "metadata": {},
   "outputs": [
    {
     "name": "stdout",
     "output_type": "stream",
     "text": [
      "Correlation coefficient: 0.9621492663463032\n",
      "Correlation coefficient: 0.9383739474511792\n"
     ]
    },
    {
     "data": {
      "text/plain": [
       "0.9383739474511792"
      ]
     },
     "execution_count": 14,
     "metadata": {},
     "output_type": "execute_result"
    }
   ],
   "source": [
    "\n",
    "import cv2 as cv\n",
    "import numpy as np\n",
    "\n",
    "def rotation_with_angle(img, angle = 45):\n",
    "\n",
    "    (h, w) = img.shape[:2]\n",
    "    center = (w // 2, h // 2)\n",
    "\n",
    "    m = cv.getRotationMatrix2D(center, angle, 1.0)\n",
    "\n",
    "    img_rotation = cv.warpAffine(img, m, (w, h))\n",
    "\n",
    "    return img_rotation\n",
    "\n",
    "def verify_laplacian_isotropy(image_path, angle=45):\n",
    "    \"\"\"\n",
    "    Aplica rotação + Laplaciano e Laplaciano + rotação na imagem de entrada\n",
    "    e retorna o coeficiente de correlação de Pearson entre os dois resultados.\n",
    "\n",
    "    Parâmetros:\n",
    "        image_path (str): Caminho para a imagem em tons de cinza.\n",
    "        angle (float): Ângulo de rotação em graus.\n",
    "\n",
    "    Retorno:\n",
    "        float: Coeficiente de correlação de Pearson entre as duas imagens.\n",
    "    \"\"\"\n",
    "    image = cv.imread(image_path, cv.IMREAD_GRAYSCALE)\n",
    "    if image is None:\n",
    "        raise ValueError(\"Image not found or unable to load.\")\n",
    "\n",
    "    # TODO: Implementar solução aqui    \n",
    "    img1 = rotation_with_angle(image, angle)\n",
    "    img2 = cv.Laplacian(image, cv.CV_64F)\n",
    "\n",
    "    result_1 = cv.Laplacian(img1, cv.CV_64F)\n",
    "    result_2 = rotation_with_angle(img2, angle)\n",
    "\n",
    "    # Flatten and compute correlation\n",
    "    corr = np.corrcoef(result_1.flatten(), result_2.flatten())[0, 1]\n",
    "    print(f'Correlation coefficient: {corr}')\n",
    "    return corr\n",
    "\n",
    "verify_laplacian_isotropy('q2/example_image.png', angle=45)\n",
    "# Expected: Correlation coefficient: 0.9621492663463063\n",
    "\n",
    "verify_laplacian_isotropy('q2/checkerboard_image.png', angle=45)\n",
    "# Expected: Correlation coefficient: 0.9383739474511829"
   ]
  },
  {
   "cell_type": "markdown",
   "id": "5e74bc48-aeec-4347-9edd-91d10148b1e0",
   "metadata": {},
   "source": [
    "# Questão 03"
   ]
  },
  {
   "cell_type": "code",
   "execution_count": 2,
   "id": "10a5dc26-4392-4e65-956f-afb5d8aeff71",
   "metadata": {},
   "outputs": [
    {
     "data": {
      "image/png": "[encoded data removed]",
      "text/plain": [
       "<Figure size 640x480 with 1 Axes>"
      ]
     },
     "metadata": {},
     "output_type": "display_data"
    },
    {
     "name": "stdout",
     "output_type": "stream",
     "text": [
      "Errado!\n"
     ]
    }
   ],
   "source": [
    "import cv2 as cv\n",
    "import numpy as np\n",
    "import matplotlib.pyplot as plt\n",
    "\n",
    "def equalize_histogram(image_path: str) -> np.ndarray:\n",
    "    \"\"\"\n",
    "    Realiza equalização de histograma apenas no canal Y de uma imagem RGB convertida para YCrCb.\n",
    "\n",
    "    Parâmetros:\n",
    "        image_path (str): Caminho para a imagem RGB.\n",
    "\n",
    "    Retorno:\n",
    "        np.ndarray: Imagem RGB com o canal Y equalizado.\n",
    "    \"\"\"\n",
    "    # TODO: Implemente sua solução aqui\n",
    "\n",
    "    img = cv.imread(image_path, cv.COLOR_BGR2RGB)\n",
    "    \n",
    "    img_ycrcb = cv.cvtColor(img, cv.COLOR_BGR2YCrCb)\n",
    "    y, cr, cb = cv.split(img_ycrcb)\n",
    "    y_equalized = cv.equalizeHist(y)\n",
    "    img_ycrcb_equalized = cv.merge([y_equalized, cr, cb])\n",
    "    img_rgb_ycrcb_equalized = cv.cvtColor(img_ycrcb_equalized, cv.COLOR_YCrCb2RGB)\n",
    "\n",
    "    plt.imshow(img_rgb_ycrcb_equalized)\n",
    "    plt.axis('Off')\n",
    "    plt.show()\n",
    "\n",
    "    return img_rgb_ycrcb_equalized\n",
    "\n",
    "\n",
    "student_result = equalize_histogram('q3/unequal_lighting_color_image.png')\n",
    "expected_result = cv.imread('q3/expected_result.png')\n",
    "\n",
    "if (expected_result == student_result).all():\n",
    "    print('Success!')\n",
    "else:\n",
    "    print('Errado!')"
   ]
  },
  {
   "cell_type": "code",
   "execution_count": null,
   "id": "29545207-5bba-4370-8337-729499c74924",
   "metadata": {},
   "outputs": [],
   "source": []
  },
  {
   "cell_type": "code",
   "execution_count": null,
   "id": "bd20c0fe-87c8-41c4-aec0-c6530458d359",
   "metadata": {},
   "outputs": [],
   "source": []
  }
 ],
 "metadata": {
  "kernelspec": {
   "display_name": "Python 3 (ipykernel)",
   "language": "python",
   "name": "python3"
  },
  "language_info": {
   "codemirror_mode": {
    "name": "ipython",
    "version": 3
   },
   "file_extension": ".py",
   "mimetype": "text/x-python",
   "name": "python",
   "nbconvert_exporter": "python",
   "pygments_lexer": "ipython3",
   "version": "3.10.12"
  }
 },
 "nbformat": 4,
 "nbformat_minor": 5
}
